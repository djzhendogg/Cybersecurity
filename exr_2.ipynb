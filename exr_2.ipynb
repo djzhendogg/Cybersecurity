{
  "nbformat": 4,
  "nbformat_minor": 0,
  "metadata": {
    "colab": {
      "provenance": []
    },
    "kernelspec": {
      "name": "python3",
      "display_name": "Python 3"
    },
    "language_info": {
      "name": "python"
    }
  },
  "cells": [
    {
      "cell_type": "code",
      "execution_count": 2,
      "metadata": {
        "id": "se4wV-qLHyCr"
      },
      "outputs": [],
      "source": [
        "import pandas as pd\n",
        "import matplotlib\n",
        "import numpy as np\n",
        "import matplotlib.pyplot as plt\n",
        "from sklearn.model_selection import train_test_split\n",
        "from sklearn.tree import DecisionTreeClassifier\n",
        "from sklearn.metrics import classification_report\n",
        "from sklearn import tree\n",
        "%matplotlib inline "
      ]
    },
    {
      "cell_type": "code",
      "source": [
        "df = pd.read_csv('https://raw.githubusercontent.com/djzhendogg/Cybersecurity/master/360T.csv')\n",
        "df.head()"
      ],
      "metadata": {
        "id": "rz8muYYBMFU1"
      },
      "execution_count": null,
      "outputs": []
    },
    {
      "cell_type": "code",
      "source": [
        "# Разделим датасет на обучающую и тестовую выборки. Из-за неоднородности объектов используем стратификацию по столбцу откликов.\n",
        "X_train, X_test, y_train, y_test = train_test_split(df.iloc[:,:-1], df.iloc[:,-1], \n",
        "                                                    test_size=0.3, random_state=65, stratify = df.iloc[:,-1])"
      ],
      "metadata": {
        "id": "GfzUFg7UMY3e"
      },
      "execution_count": 4,
      "outputs": []
    },
    {
      "cell_type": "code",
      "source": [
        "clf = tree.DecisionTreeClassifier(criterion='entropy', #критерий разделения\n",
        "                              min_samples_leaf=31, #минимальное число объектов в листе\n",
        "                              max_leaf_nodes=30, #максимальное число листьев\n",
        "                              random_state=65)\n",
        "clf=clf.fit(X_train, y_train)"
      ],
      "metadata": {
        "id": "AtLDj8jdMmDi"
      },
      "execution_count": 6,
      "outputs": []
    },
    {
      "cell_type": "code",
      "source": [
        "predictions = clf.predict(X_test)\n",
        "print(classification_report(y_test, predictions, digits=3))"
      ],
      "metadata": {
        "id": "rZXkozVQO7cF"
      },
      "execution_count": null,
      "outputs": []
    },
    {
      "cell_type": "code",
      "source": [
        "clf.get_depth()"
      ],
      "metadata": {
        "id": "TbnXaOn3Qj55"
      },
      "execution_count": null,
      "outputs": []
    },
    {
      "cell_type": "code",
      "source": [
        "o1 = pd.read_csv('https://raw.githubusercontent.com/djzhendogg/Cybersecurity/master/obj_1.csv')\n",
        "o2 = pd.read_csv('https://raw.githubusercontent.com/djzhendogg/Cybersecurity/master/obj_2.csv')\n",
        "o3 = pd.read_csv('https://raw.githubusercontent.com/djzhendogg/Cybersecurity/master/obj_3.csv')\n",
        "o4 = pd.read_csv('https://raw.githubusercontent.com/djzhendogg/Cybersecurity/master/obj_4.csv')\n",
        "\n",
        "obj = [o1, o2, o3, o4]\n",
        "for i in obj:\n",
        "    print(\"Assigned class: \", clf.predict(i))"
      ],
      "metadata": {
        "id": "yI0w_0XgRaRF"
      },
      "execution_count": null,
      "outputs": []
    }
  ]
}